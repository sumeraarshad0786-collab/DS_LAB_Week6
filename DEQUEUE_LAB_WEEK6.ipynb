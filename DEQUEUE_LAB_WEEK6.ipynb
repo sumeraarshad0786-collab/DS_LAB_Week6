{
 "cells": [
  {
   "cell_type": "markdown",
   "id": "4bc59483-8739-4be1-9784-a12ef0d9ca79",
   "metadata": {},
   "source": [
    "# TASK1_collection.dequeue"
   ]
  },
  {
   "cell_type": "code",
   "execution_count": 2,
   "id": "6394c15f-56f7-4770-a0f8-a4b424a8b184",
   "metadata": {},
   "outputs": [
    {
     "name": "stdout",
     "output_type": "stream",
     "text": [
      "Deque now: ['Sara', 'Ali', 'Hamza']\n",
      "Removed from rear: Hamza\n",
      "Removed from front: Sara\n",
      "Deque after removals: ['Ali']\n"
     ]
    }
   ],
   "source": [
    "from collections import deque\n",
    "dq = deque()\n",
    "dq.append('Ali')        # add to rear\n",
    "dq.appendleft('Sara')   # add to front\n",
    "dq.append('Hamza')      # add to rear\n",
    "print('Deque now:', list(dq))  # ['Sara', 'Ali', 'Hamza']\n",
    "print('Removed from rear:', dq.pop())      # 'Hamza'\n",
    "print('Removed from front:', dq.popleft()) # 'Sara'\n",
    "print('Deque after removals:', list(dq))   # ['Ali']"
   ]
  },
  {
   "cell_type": "markdown",
   "id": "529f40e3-2e1f-408a-87aa-7358cd84d331",
   "metadata": {},
   "source": [
    "# Task2_Doorway Traffic Simulation"
   ]
  },
  {
   "cell_type": "code",
   "execution_count": 8,
   "id": "87079701-00e7-4ac0-ab80-2cd7e712494f",
   "metadata": {},
   "outputs": [
    {
     "name": "stdout",
     "output_type": "stream",
     "text": [
      "Start → Empty doorway line\n",
      "  items: []\n",
      "  size : 0\n",
      "----------------------------------------\n",
      "After Step 1 → 3 normal arrivals at REAR\n",
      "  items: ['Student-1', 'Student-2', 'Student-3']\n",
      "  size : 3\n",
      "----------------------------------------\n",
      "After Step 2 → VIP-1 enters at FRONT\n",
      "  items: ['VIP-1', 'Student-1', 'Student-2', 'Student-3']\n",
      "  size : 4\n",
      "----------------------------------------\n",
      "Emergency exit (FRONT): VIP-1\n",
      "After Step 3 → one exit from FRONT\n",
      "  items: ['Student-1', 'Student-2', 'Student-3']\n",
      "  size : 3\n",
      "----------------------------------------\n",
      "After Step 4 → two normals (REAR) + VIP-2 (FRONT)\n",
      "  items: ['VIP-2', 'Student-1', 'Student-2', 'Student-3', 'Student-4', 'Student-5']\n",
      "  size : 6\n",
      "----------------------------------------\n",
      "Exit (REAR): Student-5\n",
      "After Step 5 → one exit from REAR\n",
      "  items: ['VIP-2', 'Student-1', 'Student-2', 'Student-3', 'Student-4']\n",
      "  size : 5\n",
      "----------------------------------------\n",
      "Final remaining people: ['VIP-2', 'Student-1', 'Student-2', 'Student-3', 'Student-4']\n",
      "Final size: 5\n"
     ]
    }
   ],
   "source": [
    "def doorway_simulation():\n",
    "    dq = Deque()  \n",
    "    show_state('Start → Empty doorway line', dq)\n",
    "\n",
    "     \n",
    "    dq.add_rear('Student-1')\n",
    "    dq.add_rear('Student-2')\n",
    "    dq.add_rear('Student-3')\n",
    "    show_state('After Step 1 → 3 normal arrivals at REAR', dq)\n",
    "\n",
    "     \n",
    "    dq.add_front('VIP-1')\n",
    "    show_state('After Step 2 → VIP-1 enters at FRONT', dq)\n",
    "\n",
    "     \n",
    "    left_front = dq.remove_front()  # removes VIP-1\n",
    "    print('Emergency exit (FRONT):', left_front)\n",
    "    show_state('After Step 3 → one exit from FRONT', dq)\n",
    "\n",
    "    \n",
    "    dq.add_rear('Student-4')\n",
    "    dq.add_rear('Student-5')\n",
    "    dq.add_front('VIP-2')\n",
    "    show_state('After Step 4 → two normals (REAR) + VIP-2 (FRONT)', dq)\n",
    "\n",
    "     \n",
    "    left_rear = dq.remove_rear()\n",
    "    print('Exit (REAR):', left_rear)\n",
    "    show_state('After Step 5 → one exit from REAR', dq)\n",
    "\n",
    "    \n",
    "    print('Final remaining people:', dq.items)\n",
    "    print('Final size:', dq.size())\n",
    "\n",
    " \n",
    "doorway_simulation()\n"
   ]
  },
  {
   "cell_type": "markdown",
   "id": "90b2e761-0150-4d2a-bf1d-f2f49ff66ee0",
   "metadata": {},
   "source": [
    "# TASK3_ Palindrome Checker Using Deque"
   ]
  },
  {
   "cell_type": "code",
   "execution_count": 18,
   "id": "26954833-4485-4f1a-9d8c-73474ce53fc7",
   "metadata": {},
   "outputs": [
    {
     "name": "stdout",
     "output_type": "stream",
     "text": [
      "'Racecar' → True\n",
      "'Never odd or even' → True\n",
      "'Was it a car or a cat I saw?' → True\n",
      "'Hello' → False\n",
      "'A man, a plan, a canal: Panama!' → True\n"
     ]
    }
   ],
   "source": [
    "def is_palindrome(text): \n",
    "    normalized = []\n",
    "    for ch in text:\n",
    "        if ch.isalnum():           # ignore spaces/punctuations\n",
    "            normalized.append(ch.lower())\n",
    "   \n",
    "    dq = Deque()\n",
    "    for ch in normalized:\n",
    "        dq.add_rear(ch)            # push characters at the rear (end)\n",
    "    \n",
    "    while dq.size() > 1:\n",
    "        left = dq.remove_front()   # front character\n",
    "        right = dq.remove_rear()   # rear character\n",
    "        if left != right:\n",
    "            return False           # mismatch → not a palindrome\n",
    "    return True  \n",
    "\n",
    "\n",
    "# ---------- Quick tests ---------\n",
    "tests = [\n",
    "    'Racecar',\n",
    "    'Never odd or even',\n",
    "    'Was it a car or a cat I saw?',\n",
    "    'Hello',\n",
    "    'A man, a plan, a canal: Panama!'\n",
    "]\n",
    "\n",
    "for s in tests:\n",
    "    print(f\"{s!r} →\", is_palindrome(s))\n"
   ]
  },
  {
   "cell_type": "code",
   "execution_count": null,
   "id": "ebce1441-e1dc-45b0-b420-3cf716a86804",
   "metadata": {},
   "outputs": [],
   "source": []
  }
 ],
 "metadata": {
  "kernelspec": {
   "display_name": "Python [conda env:base] *",
   "language": "python",
   "name": "conda-base-py"
  },
  "language_info": {
   "codemirror_mode": {
    "name": "ipython",
    "version": 3
   },
   "file_extension": ".py",
   "mimetype": "text/x-python",
   "name": "python",
   "nbconvert_exporter": "python",
   "pygments_lexer": "ipython3",
   "version": "3.13.5"
  }
 },
 "nbformat": 4,
 "nbformat_minor": 5
}
